{
  "nbformat": 4,
  "nbformat_minor": 0,
  "metadata": {
    "colab": {
      "name": "Fish_Classification.ipynb",
      "provenance": []
    },
    "kernelspec": {
      "name": "python3",
      "display_name": "Python 3"
    },
    "language_info": {
      "name": "python"
    }
  },
  "cells": [
    {
      "cell_type": "code",
      "metadata": {
        "id": "kFDWnRVVkXDv"
      },
      "source": [
        "#Importing the useful libraries\n",
        "import numpy as np\n",
        "import pandas as pd\n",
        "from sklearn.model_selection import train_test_split\n",
        "import warnings\n",
        "\n",
        "%matplotlib inline\n",
        "warnings.filterwarnings('ignore')"
      ],
      "execution_count": 4,
      "outputs": []
    },
    {
      "cell_type": "code",
      "metadata": {
        "colab": {
          "base_uri": "https://localhost:8080/",
          "height": 204
        },
        "id": "cGdhpnGTl9Pg",
        "outputId": "dc729419-4907-4e20-b03a-5f351b031b43"
      },
      "source": [
        "#Importing the Fish dataset\n",
        "dataset = pd.read_csv('Fish.csv')\n",
        "#Reading the top 5 data to check the data\n",
        "dataset.head(5)"
      ],
      "execution_count": 5,
      "outputs": [
        {
          "output_type": "execute_result",
          "data": {
            "text/html": [
              "<div>\n",
              "<style scoped>\n",
              "    .dataframe tbody tr th:only-of-type {\n",
              "        vertical-align: middle;\n",
              "    }\n",
              "\n",
              "    .dataframe tbody tr th {\n",
              "        vertical-align: top;\n",
              "    }\n",
              "\n",
              "    .dataframe thead th {\n",
              "        text-align: right;\n",
              "    }\n",
              "</style>\n",
              "<table border=\"1\" class=\"dataframe\">\n",
              "  <thead>\n",
              "    <tr style=\"text-align: right;\">\n",
              "      <th></th>\n",
              "      <th>Species</th>\n",
              "      <th>Weight</th>\n",
              "      <th>Length1</th>\n",
              "      <th>Length2</th>\n",
              "      <th>Length3</th>\n",
              "      <th>Height</th>\n",
              "      <th>Width</th>\n",
              "    </tr>\n",
              "  </thead>\n",
              "  <tbody>\n",
              "    <tr>\n",
              "      <th>0</th>\n",
              "      <td>Bream</td>\n",
              "      <td>242.0</td>\n",
              "      <td>23.2</td>\n",
              "      <td>25.4</td>\n",
              "      <td>30.0</td>\n",
              "      <td>11.5200</td>\n",
              "      <td>4.0200</td>\n",
              "    </tr>\n",
              "    <tr>\n",
              "      <th>1</th>\n",
              "      <td>Bream</td>\n",
              "      <td>290.0</td>\n",
              "      <td>24.0</td>\n",
              "      <td>26.3</td>\n",
              "      <td>31.2</td>\n",
              "      <td>12.4800</td>\n",
              "      <td>4.3056</td>\n",
              "    </tr>\n",
              "    <tr>\n",
              "      <th>2</th>\n",
              "      <td>Bream</td>\n",
              "      <td>340.0</td>\n",
              "      <td>23.9</td>\n",
              "      <td>26.5</td>\n",
              "      <td>31.1</td>\n",
              "      <td>12.3778</td>\n",
              "      <td>4.6961</td>\n",
              "    </tr>\n",
              "    <tr>\n",
              "      <th>3</th>\n",
              "      <td>Bream</td>\n",
              "      <td>363.0</td>\n",
              "      <td>26.3</td>\n",
              "      <td>29.0</td>\n",
              "      <td>33.5</td>\n",
              "      <td>12.7300</td>\n",
              "      <td>4.4555</td>\n",
              "    </tr>\n",
              "    <tr>\n",
              "      <th>4</th>\n",
              "      <td>Bream</td>\n",
              "      <td>430.0</td>\n",
              "      <td>26.5</td>\n",
              "      <td>29.0</td>\n",
              "      <td>34.0</td>\n",
              "      <td>12.4440</td>\n",
              "      <td>5.1340</td>\n",
              "    </tr>\n",
              "  </tbody>\n",
              "</table>\n",
              "</div>"
            ],
            "text/plain": [
              "  Species  Weight  Length1  Length2  Length3   Height   Width\n",
              "0   Bream   242.0     23.2     25.4     30.0  11.5200  4.0200\n",
              "1   Bream   290.0     24.0     26.3     31.2  12.4800  4.3056\n",
              "2   Bream   340.0     23.9     26.5     31.1  12.3778  4.6961\n",
              "3   Bream   363.0     26.3     29.0     33.5  12.7300  4.4555\n",
              "4   Bream   430.0     26.5     29.0     34.0  12.4440  5.1340"
            ]
          },
          "metadata": {
            "tags": []
          },
          "execution_count": 5
        }
      ]
    },
    {
      "cell_type": "code",
      "metadata": {
        "colab": {
          "base_uri": "https://localhost:8080/"
        },
        "id": "KlS99rgmm4ZG",
        "outputId": "0f84e5cd-65de-40e3-964d-4b40571eca7b"
      },
      "source": [
        "#Defining the Independent and dependent Variable\n",
        "X = dataset[[ 'Weight', 'Length1', 'Length2', 'Length3', 'Height','Width']]\n",
        "y = dataset['Species']\n",
        "print(\"X: \", X)\n",
        "print(\"y: \", y)"
      ],
      "execution_count": 6,
      "outputs": [
        {
          "output_type": "stream",
          "text": [
            "X:       Weight  Length1  Length2  Length3   Height   Width\n",
            "0     242.0     23.2     25.4     30.0  11.5200  4.0200\n",
            "1     290.0     24.0     26.3     31.2  12.4800  4.3056\n",
            "2     340.0     23.9     26.5     31.1  12.3778  4.6961\n",
            "3     363.0     26.3     29.0     33.5  12.7300  4.4555\n",
            "4     430.0     26.5     29.0     34.0  12.4440  5.1340\n",
            "..      ...      ...      ...      ...      ...     ...\n",
            "154    12.2     11.5     12.2     13.4   2.0904  1.3936\n",
            "155    13.4     11.7     12.4     13.5   2.4300  1.2690\n",
            "156    12.2     12.1     13.0     13.8   2.2770  1.2558\n",
            "157    19.7     13.2     14.3     15.2   2.8728  2.0672\n",
            "158    19.9     13.8     15.0     16.2   2.9322  1.8792\n",
            "\n",
            "[159 rows x 6 columns]\n",
            "y:  0      Bream\n",
            "1      Bream\n",
            "2      Bream\n",
            "3      Bream\n",
            "4      Bream\n",
            "       ...  \n",
            "154    Smelt\n",
            "155    Smelt\n",
            "156    Smelt\n",
            "157    Smelt\n",
            "158    Smelt\n",
            "Name: Species, Length: 159, dtype: object\n"
          ],
          "name": "stdout"
        }
      ]
    },
    {
      "cell_type": "code",
      "metadata": {
        "id": "eV6mptNonWWV"
      },
      "source": [
        "#Splitting into Train and Test dataset\n",
        "X_train,X_test,y_train,y_test = train_test_split(X,y,test_size=0.3,random_state=45)"
      ],
      "execution_count": 7,
      "outputs": []
    },
    {
      "cell_type": "code",
      "metadata": {
        "colab": {
          "base_uri": "https://localhost:8080/"
        },
        "id": "kFwt-Z9ToZs-",
        "outputId": "24b3aa8d-8a42-4581-f035-49699e980728"
      },
      "source": [
        "#Defining the ML Model\n",
        "from sklearn.linear_model import LogisticRegression\n",
        "log_model = LogisticRegression(random_state = 0, max_iter=100)\n",
        "log_model.fit(X_train,y_train)"
      ],
      "execution_count": 8,
      "outputs": [
        {
          "output_type": "execute_result",
          "data": {
            "text/plain": [
              "LogisticRegression(C=1.0, class_weight=None, dual=False, fit_intercept=True,\n",
              "                   intercept_scaling=1, l1_ratio=None, max_iter=100,\n",
              "                   multi_class='auto', n_jobs=None, penalty='l2',\n",
              "                   random_state=0, solver='lbfgs', tol=0.0001, verbose=0,\n",
              "                   warm_start=False)"
            ]
          },
          "metadata": {
            "tags": []
          },
          "execution_count": 8
        }
      ]
    },
    {
      "cell_type": "code",
      "metadata": {
        "colab": {
          "base_uri": "https://localhost:8080/"
        },
        "id": "UYWtVTBdqfCy",
        "outputId": "2747ef6b-ccaa-4917-b94c-af8c5556de97"
      },
      "source": [
        "X_pred = log_model.predict(X_test)\n",
        "print(X_pred)"
      ],
      "execution_count": 10,
      "outputs": [
        {
          "output_type": "stream",
          "text": [
            "['Perch' 'Parkki' 'Smelt' 'Pike' 'Perch' 'Bream' 'Pike' 'Perch' 'Perch'\n",
            " 'Bream' 'Perch' 'Pike' 'Bream' 'Pike' 'Parkki' 'Perch' 'Smelt' 'Smelt'\n",
            " 'Pike' 'Parkki' 'Smelt' 'Roach' 'Pike' 'Perch' 'Perch' 'Perch' 'Perch'\n",
            " 'Parkki' 'Pike' 'Bream' 'Roach' 'Bream' 'Smelt' 'Perch' 'Perch' 'Pike'\n",
            " 'Perch' 'Bream' 'Perch' 'Roach' 'Bream' 'Perch' 'Bream' 'Bream' 'Roach'\n",
            " 'Perch' 'Bream' 'Perch']\n"
          ],
          "name": "stdout"
        }
      ]
    },
    {
      "cell_type": "code",
      "metadata": {
        "id": "rAR_TWsGqXY3"
      },
      "source": [
        "# Save the model as serialized object pickle\n",
        "import pickle\n",
        "\n",
        "with open('logreg_model.pkl', 'wb') as file:\n",
        "    pickle.dump(log_model, file)"
      ],
      "execution_count": 12,
      "outputs": []
    }
  ]
}